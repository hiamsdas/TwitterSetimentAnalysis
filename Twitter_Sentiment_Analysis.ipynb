{
  "nbformat": 4,
  "nbformat_minor": 0,
  "metadata": {
    "colab": {
      "name": "Twitter_Sentiment_Analysis",
      "provenance": [],
      "collapsed_sections": []
    },
    "kernelspec": {
      "name": "python3",
      "display_name": "Python 3"
    }
  },
  "cells": [
    {
      "cell_type": "markdown",
      "metadata": {
        "id": "g7yN1EVotSkh",
        "colab_type": "text"
      },
      "source": [
        "# Import Basic Libraries"
      ]
    },
    {
      "cell_type": "code",
      "metadata": {
        "id": "x_OQyIvBkG1G",
        "colab_type": "code",
        "colab": {}
      },
      "source": [
        "\n",
        "import pandas as pd\n",
        "import numpy as np\n",
        "import string \n",
        "import re\n",
        "import seaborn as sns \n",
        "import matplotlib.pyplot as plt \n",
        "import warnings\n",
        "warnings.filterwarnings(\"ignore\")\n",
        "import nltk\n",
        "from sklearn.linear_model import LogisticRegression \n",
        "from sklearn.model_selection import train_test_split \n",
        "from sklearn.metrics import f1_score\n",
        "from sklearn.ensemble import RandomForestClassifier"
      ],
      "execution_count": 0,
      "outputs": []
    },
    {
      "cell_type": "markdown",
      "metadata": {
        "id": "EyZFlJE3tioE",
        "colab_type": "text"
      },
      "source": [
        "# Loading the Test & Train DataSet"
      ]
    },
    {
      "cell_type": "code",
      "metadata": {
        "id": "Pdo0nKUftZlp",
        "colab_type": "code",
        "colab": {}
      },
      "source": [
        "train=pd.read_csv('train_E6oV3lV.csv')\n",
        "test=pd.read_csv('test_tweets_anuFYb8.csv')\n",
        "submission=pd.read_csv('sample_submission_gfvA5FD.csv')"
      ],
      "execution_count": 0,
      "outputs": []
    },
    {
      "cell_type": "code",
      "metadata": {
        "id": "ye1BoFJPtpIg",
        "colab_type": "code",
        "outputId": "ea330158-b254-4d7e-8c3f-a56a64ef6b1c",
        "colab": {
          "base_uri": "https://localhost:8080/",
          "height": 202
        }
      },
      "source": [
        "train.head()"
      ],
      "execution_count": 47,
      "outputs": [
        {
          "output_type": "execute_result",
          "data": {
            "text/html": [
              "<div>\n",
              "<style scoped>\n",
              "    .dataframe tbody tr th:only-of-type {\n",
              "        vertical-align: middle;\n",
              "    }\n",
              "\n",
              "    .dataframe tbody tr th {\n",
              "        vertical-align: top;\n",
              "    }\n",
              "\n",
              "    .dataframe thead th {\n",
              "        text-align: right;\n",
              "    }\n",
              "</style>\n",
              "<table border=\"1\" class=\"dataframe\">\n",
              "  <thead>\n",
              "    <tr style=\"text-align: right;\">\n",
              "      <th></th>\n",
              "      <th>id</th>\n",
              "      <th>label</th>\n",
              "      <th>tweet</th>\n",
              "    </tr>\n",
              "  </thead>\n",
              "  <tbody>\n",
              "    <tr>\n",
              "      <th>0</th>\n",
              "      <td>1</td>\n",
              "      <td>0</td>\n",
              "      <td>@user when a father is dysfunctional and is s...</td>\n",
              "    </tr>\n",
              "    <tr>\n",
              "      <th>1</th>\n",
              "      <td>2</td>\n",
              "      <td>0</td>\n",
              "      <td>@user @user thanks for #lyft credit i can't us...</td>\n",
              "    </tr>\n",
              "    <tr>\n",
              "      <th>2</th>\n",
              "      <td>3</td>\n",
              "      <td>0</td>\n",
              "      <td>bihday your majesty</td>\n",
              "    </tr>\n",
              "    <tr>\n",
              "      <th>3</th>\n",
              "      <td>4</td>\n",
              "      <td>0</td>\n",
              "      <td>#model   i love u take with u all the time in ...</td>\n",
              "    </tr>\n",
              "    <tr>\n",
              "      <th>4</th>\n",
              "      <td>5</td>\n",
              "      <td>0</td>\n",
              "      <td>factsguide: society now    #motivation</td>\n",
              "    </tr>\n",
              "  </tbody>\n",
              "</table>\n",
              "</div>"
            ],
            "text/plain": [
              "   id  label                                              tweet\n",
              "0   1      0   @user when a father is dysfunctional and is s...\n",
              "1   2      0  @user @user thanks for #lyft credit i can't us...\n",
              "2   3      0                                bihday your majesty\n",
              "3   4      0  #model   i love u take with u all the time in ...\n",
              "4   5      0             factsguide: society now    #motivation"
            ]
          },
          "metadata": {
            "tags": []
          },
          "execution_count": 47
        }
      ]
    },
    {
      "cell_type": "code",
      "metadata": {
        "id": "g7tHMotytuIH",
        "colab_type": "code",
        "outputId": "4453339e-8bcc-4f2c-e101-78f7d52419a2",
        "colab": {
          "base_uri": "https://localhost:8080/",
          "height": 202
        }
      },
      "source": [
        "test.head()"
      ],
      "execution_count": 48,
      "outputs": [
        {
          "output_type": "execute_result",
          "data": {
            "text/html": [
              "<div>\n",
              "<style scoped>\n",
              "    .dataframe tbody tr th:only-of-type {\n",
              "        vertical-align: middle;\n",
              "    }\n",
              "\n",
              "    .dataframe tbody tr th {\n",
              "        vertical-align: top;\n",
              "    }\n",
              "\n",
              "    .dataframe thead th {\n",
              "        text-align: right;\n",
              "    }\n",
              "</style>\n",
              "<table border=\"1\" class=\"dataframe\">\n",
              "  <thead>\n",
              "    <tr style=\"text-align: right;\">\n",
              "      <th></th>\n",
              "      <th>id</th>\n",
              "      <th>tweet</th>\n",
              "    </tr>\n",
              "  </thead>\n",
              "  <tbody>\n",
              "    <tr>\n",
              "      <th>0</th>\n",
              "      <td>31963</td>\n",
              "      <td>#studiolife #aislife #requires #passion #dedic...</td>\n",
              "    </tr>\n",
              "    <tr>\n",
              "      <th>1</th>\n",
              "      <td>31964</td>\n",
              "      <td>@user #white #supremacists want everyone to s...</td>\n",
              "    </tr>\n",
              "    <tr>\n",
              "      <th>2</th>\n",
              "      <td>31965</td>\n",
              "      <td>safe ways to heal your #acne!!    #altwaystohe...</td>\n",
              "    </tr>\n",
              "    <tr>\n",
              "      <th>3</th>\n",
              "      <td>31966</td>\n",
              "      <td>is the hp and the cursed child book up for res...</td>\n",
              "    </tr>\n",
              "    <tr>\n",
              "      <th>4</th>\n",
              "      <td>31967</td>\n",
              "      <td>3rd #bihday to my amazing, hilarious #nephew...</td>\n",
              "    </tr>\n",
              "  </tbody>\n",
              "</table>\n",
              "</div>"
            ],
            "text/plain": [
              "      id                                              tweet\n",
              "0  31963  #studiolife #aislife #requires #passion #dedic...\n",
              "1  31964   @user #white #supremacists want everyone to s...\n",
              "2  31965  safe ways to heal your #acne!!    #altwaystohe...\n",
              "3  31966  is the hp and the cursed child book up for res...\n",
              "4  31967    3rd #bihday to my amazing, hilarious #nephew..."
            ]
          },
          "metadata": {
            "tags": []
          },
          "execution_count": 48
        }
      ]
    },
    {
      "cell_type": "code",
      "metadata": {
        "id": "oNscWOvDt0E1",
        "colab_type": "code",
        "outputId": "928cfcc6-c5f6-4204-a548-62ceae78aeec",
        "colab": {
          "base_uri": "https://localhost:8080/",
          "height": 202
        }
      },
      "source": [
        "submission.head()"
      ],
      "execution_count": 49,
      "outputs": [
        {
          "output_type": "execute_result",
          "data": {
            "text/html": [
              "<div>\n",
              "<style scoped>\n",
              "    .dataframe tbody tr th:only-of-type {\n",
              "        vertical-align: middle;\n",
              "    }\n",
              "\n",
              "    .dataframe tbody tr th {\n",
              "        vertical-align: top;\n",
              "    }\n",
              "\n",
              "    .dataframe thead th {\n",
              "        text-align: right;\n",
              "    }\n",
              "</style>\n",
              "<table border=\"1\" class=\"dataframe\">\n",
              "  <thead>\n",
              "    <tr style=\"text-align: right;\">\n",
              "      <th></th>\n",
              "      <th>id</th>\n",
              "      <th>label</th>\n",
              "    </tr>\n",
              "  </thead>\n",
              "  <tbody>\n",
              "    <tr>\n",
              "      <th>0</th>\n",
              "      <td>31963</td>\n",
              "      <td>0</td>\n",
              "    </tr>\n",
              "    <tr>\n",
              "      <th>1</th>\n",
              "      <td>31964</td>\n",
              "      <td>0</td>\n",
              "    </tr>\n",
              "    <tr>\n",
              "      <th>2</th>\n",
              "      <td>31965</td>\n",
              "      <td>0</td>\n",
              "    </tr>\n",
              "    <tr>\n",
              "      <th>3</th>\n",
              "      <td>31966</td>\n",
              "      <td>0</td>\n",
              "    </tr>\n",
              "    <tr>\n",
              "      <th>4</th>\n",
              "      <td>31967</td>\n",
              "      <td>0</td>\n",
              "    </tr>\n",
              "  </tbody>\n",
              "</table>\n",
              "</div>"
            ],
            "text/plain": [
              "      id  label\n",
              "0  31963      0\n",
              "1  31964      0\n",
              "2  31965      0\n",
              "3  31966      0\n",
              "4  31967      0"
            ]
          },
          "metadata": {
            "tags": []
          },
          "execution_count": 49
        }
      ]
    },
    {
      "cell_type": "code",
      "metadata": {
        "id": "Vcd9EHr4t4pG",
        "colab_type": "code",
        "outputId": "eef6af41-e60f-437e-bfd8-518dc88add83",
        "colab": {
          "base_uri": "https://localhost:8080/",
          "height": 34
        }
      },
      "source": [
        "# Shape of train & test dataset accordingly\n",
        "\n",
        "train.shape, test.shape"
      ],
      "execution_count": 50,
      "outputs": [
        {
          "output_type": "execute_result",
          "data": {
            "text/plain": [
              "((31962, 3), (17197, 2))"
            ]
          },
          "metadata": {
            "tags": []
          },
          "execution_count": 50
        }
      ]
    },
    {
      "cell_type": "markdown",
      "metadata": {
        "id": "gaUYk8vhuZe1",
        "colab_type": "text"
      },
      "source": [
        ""
      ]
    },
    {
      "cell_type": "code",
      "metadata": {
        "id": "8LLvv5VquKSt",
        "colab_type": "code",
        "colab": {}
      },
      "source": [
        "# Combined the test & train dataset\n",
        "df=train.append(test,ignore_index=True)"
      ],
      "execution_count": 0,
      "outputs": []
    },
    {
      "cell_type": "code",
      "metadata": {
        "id": "V1v4dR6LujJU",
        "colab_type": "code",
        "outputId": "b74bcf12-87bb-4bed-8a9b-1aa57328b632",
        "colab": {
          "base_uri": "https://localhost:8080/",
          "height": 202
        }
      },
      "source": [
        "df.head()"
      ],
      "execution_count": 52,
      "outputs": [
        {
          "output_type": "execute_result",
          "data": {
            "text/html": [
              "<div>\n",
              "<style scoped>\n",
              "    .dataframe tbody tr th:only-of-type {\n",
              "        vertical-align: middle;\n",
              "    }\n",
              "\n",
              "    .dataframe tbody tr th {\n",
              "        vertical-align: top;\n",
              "    }\n",
              "\n",
              "    .dataframe thead th {\n",
              "        text-align: right;\n",
              "    }\n",
              "</style>\n",
              "<table border=\"1\" class=\"dataframe\">\n",
              "  <thead>\n",
              "    <tr style=\"text-align: right;\">\n",
              "      <th></th>\n",
              "      <th>id</th>\n",
              "      <th>label</th>\n",
              "      <th>tweet</th>\n",
              "    </tr>\n",
              "  </thead>\n",
              "  <tbody>\n",
              "    <tr>\n",
              "      <th>0</th>\n",
              "      <td>1</td>\n",
              "      <td>0.0</td>\n",
              "      <td>@user when a father is dysfunctional and is s...</td>\n",
              "    </tr>\n",
              "    <tr>\n",
              "      <th>1</th>\n",
              "      <td>2</td>\n",
              "      <td>0.0</td>\n",
              "      <td>@user @user thanks for #lyft credit i can't us...</td>\n",
              "    </tr>\n",
              "    <tr>\n",
              "      <th>2</th>\n",
              "      <td>3</td>\n",
              "      <td>0.0</td>\n",
              "      <td>bihday your majesty</td>\n",
              "    </tr>\n",
              "    <tr>\n",
              "      <th>3</th>\n",
              "      <td>4</td>\n",
              "      <td>0.0</td>\n",
              "      <td>#model   i love u take with u all the time in ...</td>\n",
              "    </tr>\n",
              "    <tr>\n",
              "      <th>4</th>\n",
              "      <td>5</td>\n",
              "      <td>0.0</td>\n",
              "      <td>factsguide: society now    #motivation</td>\n",
              "    </tr>\n",
              "  </tbody>\n",
              "</table>\n",
              "</div>"
            ],
            "text/plain": [
              "   id  label                                              tweet\n",
              "0   1    0.0   @user when a father is dysfunctional and is s...\n",
              "1   2    0.0  @user @user thanks for #lyft credit i can't us...\n",
              "2   3    0.0                                bihday your majesty\n",
              "3   4    0.0  #model   i love u take with u all the time in ...\n",
              "4   5    0.0             factsguide: society now    #motivation"
            ]
          },
          "metadata": {
            "tags": []
          },
          "execution_count": 52
        }
      ]
    },
    {
      "cell_type": "code",
      "metadata": {
        "id": "oHUkD1Lguv6L",
        "colab_type": "code",
        "outputId": "b5b67c9f-fcf4-4a2c-f88c-51619e1253b4",
        "colab": {
          "base_uri": "https://localhost:8080/",
          "height": 34
        }
      },
      "source": [
        "df.shape"
      ],
      "execution_count": 53,
      "outputs": [
        {
          "output_type": "execute_result",
          "data": {
            "text/plain": [
              "(49159, 3)"
            ]
          },
          "metadata": {
            "tags": []
          },
          "execution_count": 53
        }
      ]
    },
    {
      "cell_type": "markdown",
      "metadata": {
        "id": "hVPg7fc3vHUp",
        "colab_type": "text"
      },
      "source": [
        "# Data Preprocessing"
      ]
    },
    {
      "cell_type": "code",
      "metadata": {
        "id": "OkbJDYN7uzvL",
        "colab_type": "code",
        "colab": {}
      },
      "source": [
        "# Removing punctuations\n",
        "df['tweet1']=df['tweet'].str.replace('@[\\w]*','')\n",
        "df['tweet1'] = df['tweet1'].str.replace(\"[^a-zA-Z#]\", \" \")\n"
      ],
      "execution_count": 0,
      "outputs": []
    },
    {
      "cell_type": "code",
      "metadata": {
        "id": "bs5fXHAGvYLP",
        "colab_type": "code",
        "outputId": "567cd645-eb05-480b-a726-baa7c8ed82ec",
        "colab": {
          "base_uri": "https://localhost:8080/",
          "height": 34
        }
      },
      "source": [
        "string.punctuation"
      ],
      "execution_count": 55,
      "outputs": [
        {
          "output_type": "execute_result",
          "data": {
            "text/plain": [
              "'!\"#$%&\\'()*+,-./:;<=>?@[\\\\]^_`{|}~'"
            ]
          },
          "metadata": {
            "tags": []
          },
          "execution_count": 55
        }
      ]
    },
    {
      "cell_type": "code",
      "metadata": {
        "id": "NMknZPohvqhC",
        "colab_type": "code",
        "colab": {}
      },
      "source": [
        "# Function for removing punctuation\n",
        "def remove_punct(text):\n",
        "    text_nonpunct=''.join([char for char in text if char not in string.punctuation])\n",
        "    return text_nonpunct"
      ],
      "execution_count": 0,
      "outputs": []
    },
    {
      "cell_type": "code",
      "metadata": {
        "id": "On_aX2kKv9og",
        "colab_type": "code",
        "colab": {}
      },
      "source": [
        "df['tweet2']=df['tweet1'].apply(lambda x:remove_punct(x))"
      ],
      "execution_count": 0,
      "outputs": []
    },
    {
      "cell_type": "code",
      "metadata": {
        "id": "VJaea5U9wJ6-",
        "colab_type": "code",
        "outputId": "d442871d-90fa-4eda-a23b-1e271a001e37",
        "colab": {
          "base_uri": "https://localhost:8080/",
          "height": 202
        }
      },
      "source": [
        "df.head()"
      ],
      "execution_count": 58,
      "outputs": [
        {
          "output_type": "execute_result",
          "data": {
            "text/html": [
              "<div>\n",
              "<style scoped>\n",
              "    .dataframe tbody tr th:only-of-type {\n",
              "        vertical-align: middle;\n",
              "    }\n",
              "\n",
              "    .dataframe tbody tr th {\n",
              "        vertical-align: top;\n",
              "    }\n",
              "\n",
              "    .dataframe thead th {\n",
              "        text-align: right;\n",
              "    }\n",
              "</style>\n",
              "<table border=\"1\" class=\"dataframe\">\n",
              "  <thead>\n",
              "    <tr style=\"text-align: right;\">\n",
              "      <th></th>\n",
              "      <th>id</th>\n",
              "      <th>label</th>\n",
              "      <th>tweet</th>\n",
              "      <th>tweet1</th>\n",
              "      <th>tweet2</th>\n",
              "    </tr>\n",
              "  </thead>\n",
              "  <tbody>\n",
              "    <tr>\n",
              "      <th>0</th>\n",
              "      <td>1</td>\n",
              "      <td>0.0</td>\n",
              "      <td>@user when a father is dysfunctional and is s...</td>\n",
              "      <td>when a father is dysfunctional and is so sel...</td>\n",
              "      <td>when a father is dysfunctional and is so sel...</td>\n",
              "    </tr>\n",
              "    <tr>\n",
              "      <th>1</th>\n",
              "      <td>2</td>\n",
              "      <td>0.0</td>\n",
              "      <td>@user @user thanks for #lyft credit i can't us...</td>\n",
              "      <td>thanks for #lyft credit i can t use cause th...</td>\n",
              "      <td>thanks for lyft credit i can t use cause the...</td>\n",
              "    </tr>\n",
              "    <tr>\n",
              "      <th>2</th>\n",
              "      <td>3</td>\n",
              "      <td>0.0</td>\n",
              "      <td>bihday your majesty</td>\n",
              "      <td>bihday your majesty</td>\n",
              "      <td>bihday your majesty</td>\n",
              "    </tr>\n",
              "    <tr>\n",
              "      <th>3</th>\n",
              "      <td>4</td>\n",
              "      <td>0.0</td>\n",
              "      <td>#model   i love u take with u all the time in ...</td>\n",
              "      <td>#model   i love u take with u all the time in ...</td>\n",
              "      <td>model   i love u take with u all the time in u...</td>\n",
              "    </tr>\n",
              "    <tr>\n",
              "      <th>4</th>\n",
              "      <td>5</td>\n",
              "      <td>0.0</td>\n",
              "      <td>factsguide: society now    #motivation</td>\n",
              "      <td>factsguide  society now    #motivation</td>\n",
              "      <td>factsguide  society now    motivation</td>\n",
              "    </tr>\n",
              "  </tbody>\n",
              "</table>\n",
              "</div>"
            ],
            "text/plain": [
              "   id  ...                                             tweet2\n",
              "0   1  ...    when a father is dysfunctional and is so sel...\n",
              "1   2  ...    thanks for lyft credit i can t use cause the...\n",
              "2   3  ...                                bihday your majesty\n",
              "3   4  ...  model   i love u take with u all the time in u...\n",
              "4   5  ...              factsguide  society now    motivation\n",
              "\n",
              "[5 rows x 5 columns]"
            ]
          },
          "metadata": {
            "tags": []
          },
          "execution_count": 58
        }
      ]
    },
    {
      "cell_type": "markdown",
      "metadata": {
        "id": "nU56dR7Nwn-b",
        "colab_type": "text"
      },
      "source": [
        "# Tokenization"
      ]
    },
    {
      "cell_type": "code",
      "metadata": {
        "id": "ziMT4dxgwSKi",
        "colab_type": "code",
        "colab": {}
      },
      "source": [
        "df['token']=df['tweet2'].apply(lambda x:x.split())"
      ],
      "execution_count": 0,
      "outputs": []
    },
    {
      "cell_type": "code",
      "metadata": {
        "id": "cdEJoV_4wvzB",
        "colab_type": "code",
        "outputId": "49377eef-6b20-4c6f-f03b-4d7efda0a7c8",
        "colab": {
          "base_uri": "https://localhost:8080/",
          "height": 225
        }
      },
      "source": [
        "df.token"
      ],
      "execution_count": 60,
      "outputs": [
        {
          "output_type": "execute_result",
          "data": {
            "text/plain": [
              "0        [when, a, father, is, dysfunctional, and, is, ...\n",
              "1        [thanks, for, lyft, credit, i, can, t, use, ca...\n",
              "2                                  [bihday, your, majesty]\n",
              "3        [model, i, love, u, take, with, u, all, the, t...\n",
              "4                   [factsguide, society, now, motivation]\n",
              "                               ...                        \n",
              "49154    [thought, factory, left, right, polarisation, ...\n",
              "49155    [feeling, like, a, mermaid, hairflip, neverrea...\n",
              "49156    [hillary, campaigned, today, in, ohio, omg, am...\n",
              "49157    [happy, at, work, conference, right, mindset, ...\n",
              "49158    [my, song, so, glad, free, download, shoegaze,...\n",
              "Name: token, Length: 49159, dtype: object"
            ]
          },
          "metadata": {
            "tags": []
          },
          "execution_count": 60
        }
      ]
    },
    {
      "cell_type": "markdown",
      "metadata": {
        "id": "tjaGMXJRw_t3",
        "colab_type": "text"
      },
      "source": [
        "# Stopwords"
      ]
    },
    {
      "cell_type": "code",
      "metadata": {
        "id": "KLZfCch7w2V0",
        "colab_type": "code",
        "outputId": "ba93f7ae-a5cf-4b2c-aadb-710026a28f03",
        "colab": {
          "base_uri": "https://localhost:8080/",
          "height": 69
        }
      },
      "source": [
        "nltk.download('stopwords')"
      ],
      "execution_count": 61,
      "outputs": [
        {
          "output_type": "stream",
          "text": [
            "[nltk_data] Downloading package stopwords to /root/nltk_data...\n",
            "[nltk_data]   Package stopwords is already up-to-date!\n"
          ],
          "name": "stdout"
        },
        {
          "output_type": "execute_result",
          "data": {
            "text/plain": [
              "True"
            ]
          },
          "metadata": {
            "tags": []
          },
          "execution_count": 61
        }
      ]
    },
    {
      "cell_type": "code",
      "metadata": {
        "id": "La6NT20TxELG",
        "colab_type": "code",
        "colab": {}
      },
      "source": [
        "stopword=nltk.corpus.stopwords.words('english')"
      ],
      "execution_count": 0,
      "outputs": []
    },
    {
      "cell_type": "code",
      "metadata": {
        "id": "FwauobzUx-9K",
        "colab_type": "code",
        "colab": {}
      },
      "source": [
        "def remove_stopwords(tokenized_list):\n",
        "    text=[word for word in tokenized_list if word not in stopword]\n",
        "    return text"
      ],
      "execution_count": 0,
      "outputs": []
    },
    {
      "cell_type": "code",
      "metadata": {
        "id": "_3xB0KlXyC_H",
        "colab_type": "code",
        "colab": {}
      },
      "source": [
        "df['nonstop']=df['token'].apply(lambda x: remove_stopwords(x))"
      ],
      "execution_count": 0,
      "outputs": []
    },
    {
      "cell_type": "code",
      "metadata": {
        "id": "Nyi_GQOmyO7M",
        "colab_type": "code",
        "outputId": "921a591d-793b-4e42-b684-f4e74fef87ff",
        "colab": {
          "base_uri": "https://localhost:8080/",
          "height": 433
        }
      },
      "source": [
        "df.nonstop, df.token"
      ],
      "execution_count": 65,
      "outputs": [
        {
          "output_type": "execute_result",
          "data": {
            "text/plain": [
              "(0        [father, dysfunctional, selfish, drags, kids, ...\n",
              " 1        [thanks, lyft, credit, use, cause, offer, whee...\n",
              " 2                                        [bihday, majesty]\n",
              " 3                      [model, love, u, take, u, time, ur]\n",
              " 4                        [factsguide, society, motivation]\n",
              "                                ...                        \n",
              " 49154    [thought, factory, left, right, polarisation, ...\n",
              " 49155    [feeling, like, mermaid, hairflip, neverready,...\n",
              " 49156    [hillary, campaigned, today, ohio, omg, amp, u...\n",
              " 49157    [happy, work, conference, right, mindset, lead...\n",
              " 49158    [song, glad, free, download, shoegaze, newmusi...\n",
              " Name: nonstop, Length: 49159, dtype: object,\n",
              " 0        [when, a, father, is, dysfunctional, and, is, ...\n",
              " 1        [thanks, for, lyft, credit, i, can, t, use, ca...\n",
              " 2                                  [bihday, your, majesty]\n",
              " 3        [model, i, love, u, take, with, u, all, the, t...\n",
              " 4                   [factsguide, society, now, motivation]\n",
              "                                ...                        \n",
              " 49154    [thought, factory, left, right, polarisation, ...\n",
              " 49155    [feeling, like, a, mermaid, hairflip, neverrea...\n",
              " 49156    [hillary, campaigned, today, in, ohio, omg, am...\n",
              " 49157    [happy, at, work, conference, right, mindset, ...\n",
              " 49158    [my, song, so, glad, free, download, shoegaze,...\n",
              " Name: token, Length: 49159, dtype: object)"
            ]
          },
          "metadata": {
            "tags": []
          },
          "execution_count": 65
        }
      ]
    },
    {
      "cell_type": "code",
      "metadata": {
        "id": "S7a0At2jyVd6",
        "colab_type": "code",
        "colab": {}
      },
      "source": [
        "from nltk.stem.wordnet import *"
      ],
      "execution_count": 0,
      "outputs": []
    },
    {
      "cell_type": "code",
      "metadata": {
        "id": "EGw08KSwycqn",
        "colab_type": "code",
        "colab": {}
      },
      "source": [
        "wn=WordNetLemmatizer()"
      ],
      "execution_count": 0,
      "outputs": []
    },
    {
      "cell_type": "code",
      "metadata": {
        "id": "o8HNgFDfyjB6",
        "colab_type": "code",
        "outputId": "c1686e33-85a4-46b5-8ea9-5ecaceebe400",
        "colab": {
          "base_uri": "https://localhost:8080/",
          "height": 69
        }
      },
      "source": [
        "nltk.download('wordnet')"
      ],
      "execution_count": 68,
      "outputs": [
        {
          "output_type": "stream",
          "text": [
            "[nltk_data] Downloading package wordnet to /root/nltk_data...\n",
            "[nltk_data]   Package wordnet is already up-to-date!\n"
          ],
          "name": "stdout"
        },
        {
          "output_type": "execute_result",
          "data": {
            "text/plain": [
              "True"
            ]
          },
          "metadata": {
            "tags": []
          },
          "execution_count": 68
        }
      ]
    },
    {
      "cell_type": "markdown",
      "metadata": {
        "id": "ChS2Qa-Vyyj1",
        "colab_type": "text"
      },
      "source": [
        "#Lemmatization"
      ]
    },
    {
      "cell_type": "code",
      "metadata": {
        "id": "vI154J_cymiM",
        "colab_type": "code",
        "colab": {}
      },
      "source": [
        "df['lemma']=df['nonstop'].apply(lambda x: [wn.lemmatize(i) for i in x])"
      ],
      "execution_count": 0,
      "outputs": []
    },
    {
      "cell_type": "code",
      "metadata": {
        "id": "qEjcPbHJy5fF",
        "colab_type": "code",
        "outputId": "6c5f5e8e-6c81-4e8b-90f8-d39085fedbb3",
        "colab": {
          "base_uri": "https://localhost:8080/",
          "height": 225
        }
      },
      "source": [
        "df.lemma"
      ],
      "execution_count": 70,
      "outputs": [
        {
          "output_type": "execute_result",
          "data": {
            "text/plain": [
              "0        [father, dysfunctional, selfish, drag, kid, dy...\n",
              "1        [thanks, lyft, credit, use, cause, offer, whee...\n",
              "2                                        [bihday, majesty]\n",
              "3                      [model, love, u, take, u, time, ur]\n",
              "4                        [factsguide, society, motivation]\n",
              "                               ...                        \n",
              "49154    [thought, factory, left, right, polarisation, ...\n",
              "49155    [feeling, like, mermaid, hairflip, neverready,...\n",
              "49156    [hillary, campaigned, today, ohio, omg, amp, u...\n",
              "49157    [happy, work, conference, right, mindset, lead...\n",
              "49158    [song, glad, free, download, shoegaze, newmusi...\n",
              "Name: lemma, Length: 49159, dtype: object"
            ]
          },
          "metadata": {
            "tags": []
          },
          "execution_count": 70
        }
      ]
    },
    {
      "cell_type": "code",
      "metadata": {
        "id": "5giKSdxTy8Pv",
        "colab_type": "code",
        "colab": {}
      },
      "source": [
        "tokenized_tweet=df['lemma']"
      ],
      "execution_count": 0,
      "outputs": []
    },
    {
      "cell_type": "code",
      "metadata": {
        "id": "De9K_6WhzM4E",
        "colab_type": "code",
        "outputId": "249cbc54-3fcb-4ae8-caaa-7b8b7cb71a12",
        "colab": {
          "base_uri": "https://localhost:8080/",
          "height": 225
        }
      },
      "source": [
        "df.lemma"
      ],
      "execution_count": 30,
      "outputs": [
        {
          "output_type": "execute_result",
          "data": {
            "text/plain": [
              "0        [father, dysfunctional, selfish, drag, kid, dy...\n",
              "1        [thanks, lyft, credit, use, cause, offer, whee...\n",
              "2                                        [bihday, majesty]\n",
              "3                      [model, love, u, take, u, time, ur]\n",
              "4                        [factsguide, society, motivation]\n",
              "                               ...                        \n",
              "49154    [thought, factory, left, right, polarisation, ...\n",
              "49155    [feeling, like, mermaid, hairflip, neverready,...\n",
              "49156    [hillary, campaigned, today, ohio, omg, amp, u...\n",
              "49157    [happy, work, conference, right, mindset, lead...\n",
              "49158    [song, glad, free, download, shoegaze, newmusi...\n",
              "Name: lemma, Length: 49159, dtype: object"
            ]
          },
          "metadata": {
            "tags": []
          },
          "execution_count": 30
        }
      ]
    },
    {
      "cell_type": "code",
      "metadata": {
        "id": "ecLWi38wz3ZL",
        "colab_type": "code",
        "colab": {}
      },
      "source": [
        "#!pip install mosestokenizer"
      ],
      "execution_count": 0,
      "outputs": []
    },
    {
      "cell_type": "code",
      "metadata": {
        "id": "EkjWuMGHH5iz",
        "colab_type": "code",
        "colab": {}
      },
      "source": [
        "#from mosestokenizer import MosesTokenizer, MosesDetokenizer"
      ],
      "execution_count": 0,
      "outputs": []
    },
    {
      "cell_type": "code",
      "metadata": {
        "id": "j6ZhYNBUzRIp",
        "colab_type": "code",
        "colab": {}
      },
      "source": [
        "#import MosesDetokenizer\n",
        "\n",
        "#!pip install -q matplotlib-venn"
      ],
      "execution_count": 0,
      "outputs": []
    },
    {
      "cell_type": "code",
      "metadata": {
        "id": "7yjlqwtoL4iu",
        "colab_type": "code",
        "colab": {}
      },
      "source": [
        "import spacy"
      ],
      "execution_count": 0,
      "outputs": []
    },
    {
      "cell_type": "code",
      "metadata": {
        "id": "dOqeYQRwMcFD",
        "colab_type": "code",
        "colab": {}
      },
      "source": [
        "#from sacremoses import MosesDetokenizer"
      ],
      "execution_count": 0,
      "outputs": []
    },
    {
      "cell_type": "code",
      "metadata": {
        "id": "J-gqlM7NHX6z",
        "colab_type": "code",
        "colab": {}
      },
      "source": [
        "#df['final']=df['lemma'].apply(lambda x: detokenizer.detokenize(x))"
      ],
      "execution_count": 0,
      "outputs": []
    },
    {
      "cell_type": "code",
      "metadata": {
        "id": "ksrJXjucIc3u",
        "colab_type": "code",
        "colab": {}
      },
      "source": [
        "from nltk.tokenize.treebank import TreebankWordDetokenizer"
      ],
      "execution_count": 0,
      "outputs": []
    },
    {
      "cell_type": "code",
      "metadata": {
        "id": "G9HmWnNBcZDh",
        "colab_type": "code",
        "colab": {
          "base_uri": "https://localhost:8080/",
          "height": 121
        },
        "outputId": "7e27f826-53a3-407d-d511-6bbb6d3cda4f"
      },
      "source": [
        "df.lemma.head()"
      ],
      "execution_count": 79,
      "outputs": [
        {
          "output_type": "execute_result",
          "data": {
            "text/plain": [
              "0    [father, dysfunctional, selfish, drag, kid, dy...\n",
              "1    [thanks, lyft, credit, use, cause, offer, whee...\n",
              "2                                    [bihday, majesty]\n",
              "3                  [model, love, u, take, u, time, ur]\n",
              "4                    [factsguide, society, motivation]\n",
              "Name: lemma, dtype: object"
            ]
          },
          "metadata": {
            "tags": []
          },
          "execution_count": 79
        }
      ]
    },
    {
      "cell_type": "code",
      "metadata": {
        "id": "HYGsq59jcQhk",
        "colab_type": "code",
        "colab": {}
      },
      "source": [
        "df['final']=df['lemma'].apply(lambda x: TreebankWordDetokenizer().detokenize(x))"
      ],
      "execution_count": 0,
      "outputs": []
    },
    {
      "cell_type": "code",
      "metadata": {
        "id": "gI7kc7EceJiK",
        "colab_type": "code",
        "colab": {
          "base_uri": "https://localhost:8080/",
          "height": 225
        },
        "outputId": "d42de494-71c6-420e-bb5b-916202793b5d"
      },
      "source": [
        "df.final"
      ],
      "execution_count": 81,
      "outputs": [
        {
          "output_type": "execute_result",
          "data": {
            "text/plain": [
              "0        father dysfunctional selfish drag kid dysfunct...\n",
              "1        thanks lyft credit use cause offer wheelchair ...\n",
              "2                                           bihday majesty\n",
              "3                              model love u take u time ur\n",
              "4                            factsguide society motivation\n",
              "                               ...                        \n",
              "49154    thought factory left right polarisation trump ...\n",
              "49155    feeling like mermaid hairflip neverready forma...\n",
              "49156    hillary campaigned today ohio omg amp used wor...\n",
              "49157    happy work conference right mindset lead cultu...\n",
              "49158    song glad free download shoegaze newmusic newsong\n",
              "Name: final, Length: 49159, dtype: object"
            ]
          },
          "metadata": {
            "tags": []
          },
          "execution_count": 81
        }
      ]
    },
    {
      "cell_type": "code",
      "metadata": {
        "id": "1H0An0PWet6c",
        "colab_type": "code",
        "colab": {}
      },
      "source": [
        "from sklearn.feature_extraction.text import CountVectorizer"
      ],
      "execution_count": 0,
      "outputs": []
    },
    {
      "cell_type": "code",
      "metadata": {
        "id": "le0amBiQvokl",
        "colab_type": "code",
        "colab": {}
      },
      "source": [
        "count_vect=CountVectorizer(ngram_range=(1,2),max_df=0.90, min_df=2, stop_words='english')"
      ],
      "execution_count": 0,
      "outputs": []
    },
    {
      "cell_type": "code",
      "metadata": {
        "id": "Ahn5fwZovs02",
        "colab_type": "code",
        "colab": {}
      },
      "source": [
        "X_count=count_vect.fit_transform(df['final'])"
      ],
      "execution_count": 0,
      "outputs": []
    },
    {
      "cell_type": "code",
      "metadata": {
        "id": "k3DAOEMTvw_g",
        "colab_type": "code",
        "colab": {
          "base_uri": "https://localhost:8080/",
          "height": 52
        },
        "outputId": "9a52d136-e03c-4ba9-b8d0-c7fdf3a8240d"
      },
      "source": [
        "X_count"
      ],
      "execution_count": 85,
      "outputs": [
        {
          "output_type": "execute_result",
          "data": {
            "text/plain": [
              "<49159x50778 sparse matrix of type '<class 'numpy.int64'>'\n",
              "\twith 427990 stored elements in Compressed Sparse Row format>"
            ]
          },
          "metadata": {
            "tags": []
          },
          "execution_count": 85
        }
      ]
    },
    {
      "cell_type": "code",
      "metadata": {
        "id": "MWBB5Y_Bv1xz",
        "colab_type": "code",
        "colab": {}
      },
      "source": [
        "from sklearn.feature_extraction.text import TfidfVectorizer"
      ],
      "execution_count": 0,
      "outputs": []
    },
    {
      "cell_type": "code",
      "metadata": {
        "id": "1zOk4SeYv49u",
        "colab_type": "code",
        "colab": {}
      },
      "source": [
        "tf=TfidfVectorizer(ngram_range=(1,2),max_df=0.90, min_df=2, stop_words='english')"
      ],
      "execution_count": 0,
      "outputs": []
    },
    {
      "cell_type": "code",
      "metadata": {
        "id": "LmeS3_VTv8EZ",
        "colab_type": "code",
        "colab": {}
      },
      "source": [
        "X_tf=tf.fit_transform(df['final'])"
      ],
      "execution_count": 0,
      "outputs": []
    },
    {
      "cell_type": "code",
      "metadata": {
        "id": "xYVIsN2JwBY1",
        "colab_type": "code",
        "colab": {
          "base_uri": "https://localhost:8080/",
          "height": 52
        },
        "outputId": "8ea51f92-914d-4cfb-b154-5c30fcf9789b"
      },
      "source": [
        "X_tf"
      ],
      "execution_count": 89,
      "outputs": [
        {
          "output_type": "execute_result",
          "data": {
            "text/plain": [
              "<49159x50778 sparse matrix of type '<class 'numpy.float64'>'\n",
              "\twith 427990 stored elements in Compressed Sparse Row format>"
            ]
          },
          "metadata": {
            "tags": []
          },
          "execution_count": 89
        }
      ]
    },
    {
      "cell_type": "markdown",
      "metadata": {
        "id": "csqJ2P7KwX--",
        "colab_type": "text"
      },
      "source": [
        "# Split the DataSet into Train & Test"
      ]
    },
    {
      "cell_type": "code",
      "metadata": {
        "id": "GdBTPYAswDcE",
        "colab_type": "code",
        "colab": {}
      },
      "source": [
        "train_bow = X_count[:31962,:] \n",
        "test_bow = X_count[31962:,:]"
      ],
      "execution_count": 0,
      "outputs": []
    },
    {
      "cell_type": "code",
      "metadata": {
        "id": "yto3kJUqwSkk",
        "colab_type": "code",
        "colab": {}
      },
      "source": [
        "xtrain_bow, xvalid_bow, ytrain, yvalid = train_test_split(train_bow, train['label'],random_state=42,test_size=0.3)"
      ],
      "execution_count": 0,
      "outputs": []
    },
    {
      "cell_type": "markdown",
      "metadata": {
        "id": "YIh_-9DowpVK",
        "colab_type": "text"
      },
      "source": [
        "#Logistic Regression"
      ]
    },
    {
      "cell_type": "code",
      "metadata": {
        "id": "TtVVdndVwl5q",
        "colab_type": "code",
        "colab": {}
      },
      "source": [
        "Lreg = LogisticRegression()"
      ],
      "execution_count": 0,
      "outputs": []
    },
    {
      "cell_type": "code",
      "metadata": {
        "id": "7-BzUUO7wxXi",
        "colab_type": "code",
        "colab": {
          "base_uri": "https://localhost:8080/",
          "height": 104
        },
        "outputId": "2e85bba9-62eb-4572-f046-6e95b66ef13f"
      },
      "source": [
        "Lreg.fit(xtrain_bow, ytrain)"
      ],
      "execution_count": 94,
      "outputs": [
        {
          "output_type": "execute_result",
          "data": {
            "text/plain": [
              "LogisticRegression(C=1.0, class_weight=None, dual=False, fit_intercept=True,\n",
              "                   intercept_scaling=1, l1_ratio=None, max_iter=100,\n",
              "                   multi_class='warn', n_jobs=None, penalty='l2',\n",
              "                   random_state=None, solver='warn', tol=0.0001, verbose=0,\n",
              "                   warm_start=False)"
            ]
          },
          "metadata": {
            "tags": []
          },
          "execution_count": 94
        }
      ]
    },
    {
      "cell_type": "code",
      "metadata": {
        "id": "6JIBLhcLw3Hq",
        "colab_type": "code",
        "colab": {}
      },
      "source": [
        "prediction = Lreg.predict_proba(xvalid_bow)"
      ],
      "execution_count": 0,
      "outputs": []
    },
    {
      "cell_type": "code",
      "metadata": {
        "id": "yGSmfXtoCIs3",
        "colab_type": "code",
        "colab": {
          "base_uri": "https://localhost:8080/",
          "height": 34
        },
        "outputId": "79be2b91-7404-4cca-a04c-aa3f4b3f671a"
      },
      "source": [
        "prediction"
      ],
      "execution_count": 118,
      "outputs": [
        {
          "output_type": "execute_result",
          "data": {
            "text/plain": [
              "array([0, 0, 0, ..., 0, 1, 0])"
            ]
          },
          "metadata": {
            "tags": []
          },
          "execution_count": 118
        }
      ]
    },
    {
      "cell_type": "code",
      "metadata": {
        "id": "M6Nf8NuGxOde",
        "colab_type": "code",
        "colab": {}
      },
      "source": [
        "prediction_int = prediction[:,1] >= 0.3"
      ],
      "execution_count": 0,
      "outputs": []
    },
    {
      "cell_type": "code",
      "metadata": {
        "id": "CflUkF7fCZNx",
        "colab_type": "code",
        "colab": {
          "base_uri": "https://localhost:8080/",
          "height": 34
        },
        "outputId": "19a3d7c2-d858-46b5-97d1-185e6c69bd8b"
      },
      "source": [
        "prediction_int"
      ],
      "execution_count": 119,
      "outputs": [
        {
          "output_type": "execute_result",
          "data": {
            "text/plain": [
              "array([0, 0, 0, ..., 0, 1, 0])"
            ]
          },
          "metadata": {
            "tags": []
          },
          "execution_count": 119
        }
      ]
    },
    {
      "cell_type": "code",
      "metadata": {
        "id": "KMrX8yO5xSy8",
        "colab_type": "code",
        "colab": {}
      },
      "source": [
        "prediction_int = prediction_int.astype(np.int)"
      ],
      "execution_count": 0,
      "outputs": []
    },
    {
      "cell_type": "code",
      "metadata": {
        "id": "g2o3_5ygCzIk",
        "colab_type": "code",
        "colab": {
          "base_uri": "https://localhost:8080/",
          "height": 34
        },
        "outputId": "af5308fe-04aa-4b92-b63f-fd56dbd5247f"
      },
      "source": [
        "prediction_int"
      ],
      "execution_count": 121,
      "outputs": [
        {
          "output_type": "execute_result",
          "data": {
            "text/plain": [
              "array([0, 0, 0, ..., 0, 1, 0])"
            ]
          },
          "metadata": {
            "tags": []
          },
          "execution_count": 121
        }
      ]
    },
    {
      "cell_type": "code",
      "metadata": {
        "id": "tnhqfBY9xXfG",
        "colab_type": "code",
        "colab": {
          "base_uri": "https://localhost:8080/",
          "height": 34
        },
        "outputId": "acfa5e17-87d6-4e40-edaa-985d646d13cc"
      },
      "source": [
        "f1_score(yvalid, prediction_int)"
      ],
      "execution_count": 98,
      "outputs": [
        {
          "output_type": "execute_result",
          "data": {
            "text/plain": [
              "0.689075630252101"
            ]
          },
          "metadata": {
            "tags": []
          },
          "execution_count": 98
        }
      ]
    },
    {
      "cell_type": "markdown",
      "metadata": {
        "id": "MxW9Gu7-xgqC",
        "colab_type": "text"
      },
      "source": [
        "#Random Forest"
      ]
    },
    {
      "cell_type": "code",
      "metadata": {
        "id": "9-TOaQyxxbvh",
        "colab_type": "code",
        "colab": {
          "base_uri": "https://localhost:8080/",
          "height": 34
        },
        "outputId": "ab69e018-1fe9-471b-944b-a6921f059683"
      },
      "source": [
        "RF = RandomForestClassifier(n_estimators=400,max_features='auto', random_state=11).fit(xtrain_bow, ytrain) \n",
        "prediction = RF.predict(xvalid_bow) \n",
        "f1_score(yvalid, prediction)"
      ],
      "execution_count": 99,
      "outputs": [
        {
          "output_type": "execute_result",
          "data": {
            "text/plain": [
              "0.63710407239819"
            ]
          },
          "metadata": {
            "tags": []
          },
          "execution_count": 99
        }
      ]
    },
    {
      "cell_type": "code",
      "metadata": {
        "id": "_W2QPBIuxnuE",
        "colab_type": "code",
        "colab": {}
      },
      "source": [
        "train_tfidf = X_tf[:31962,:] \n",
        "test_tfidf = X_tf[31962:,:] \n",
        "xtrain_tfidf = train_tfidf[ytrain.index] \n",
        "xvalid_tfidf = train_tfidf[yvalid.index]"
      ],
      "execution_count": 0,
      "outputs": []
    },
    {
      "cell_type": "markdown",
      "metadata": {
        "id": "bVsNdD7j0JAY",
        "colab_type": "text"
      },
      "source": [
        "#Tfidf score\n"
      ]
    },
    {
      "cell_type": "code",
      "metadata": {
        "id": "NqgSHPknz7Ot",
        "colab_type": "code",
        "colab": {
          "base_uri": "https://localhost:8080/",
          "height": 34
        },
        "outputId": "45e70d59-aeeb-45a4-f8b8-b2d5c968c50c"
      },
      "source": [
        "#Logistic Regression\n",
        "Lreg.fit(xtrain_tfidf, ytrain) \n",
        "prediction = Lreg.predict_proba(xvalid_tfidf) \n",
        "prediction_int = prediction[:,1] >= 0.3 \n",
        "prediction_int = prediction_int.astype(np.int) \n",
        "f1_score(yvalid, prediction_int)"
      ],
      "execution_count": 103,
      "outputs": [
        {
          "output_type": "execute_result",
          "data": {
            "text/plain": [
              "0.5337361530715006"
            ]
          },
          "metadata": {
            "tags": []
          },
          "execution_count": 103
        }
      ]
    },
    {
      "cell_type": "code",
      "metadata": {
        "id": "_35Hj-im0VrK",
        "colab_type": "code",
        "colab": {
          "base_uri": "https://localhost:8080/",
          "height": 34
        },
        "outputId": "d10a0e57-704f-492c-ef9d-64de72a6da90"
      },
      "source": [
        "#Random Forest\n",
        "RF = RandomForestClassifier(n_estimators=1500,max_features='auto', random_state=11).fit(xtrain_tfidf, ytrain) \n",
        "prediction = RF.predict(xvalid_tfidf) \n",
        "f1_score(yvalid, prediction)"
      ],
      "execution_count": 105,
      "outputs": [
        {
          "output_type": "execute_result",
          "data": {
            "text/plain": [
              "0.629277566539924"
            ]
          },
          "metadata": {
            "tags": []
          },
          "execution_count": 105
        }
      ]
    },
    {
      "cell_type": "markdown",
      "metadata": {
        "id": "ZPIfO03C04MC",
        "colab_type": "text"
      },
      "source": [
        "Here, I found that f1 score for Logistic Regression is higher than Random Forest. So here I have applied Logistic Regression to the test Data Set."
      ]
    },
    {
      "cell_type": "code",
      "metadata": {
        "id": "MxurhuKC0mHa",
        "colab_type": "code",
        "colab": {}
      },
      "source": [
        "test_pred = Lreg.predict_proba(test_bow) \n"
      ],
      "execution_count": 0,
      "outputs": []
    },
    {
      "cell_type": "code",
      "metadata": {
        "id": "3LUcLHIFMgRc",
        "colab_type": "code",
        "colab": {}
      },
      "source": [
        "prediction_int1 = test_pred[:,1] >= 0.3\n"
      ],
      "execution_count": 0,
      "outputs": []
    },
    {
      "cell_type": "code",
      "metadata": {
        "id": "37kArNxBMf8g",
        "colab_type": "code",
        "colab": {}
      },
      "source": [
        "test_pred = prediction_int1.astype(np.int)"
      ],
      "execution_count": 0,
      "outputs": []
    },
    {
      "cell_type": "code",
      "metadata": {
        "id": "QSI1LdPt90dD",
        "colab_type": "code",
        "colab": {}
      },
      "source": [
        "test_pred=pd.DataFrame(test_pred)"
      ],
      "execution_count": 0,
      "outputs": []
    },
    {
      "cell_type": "code",
      "metadata": {
        "id": "zrNwp-9u_6SF",
        "colab_type": "code",
        "colab": {}
      },
      "source": [
        "\n",
        "test_pred = RF.predict(test_bow)"
      ],
      "execution_count": 0,
      "outputs": []
    },
    {
      "cell_type": "code",
      "metadata": {
        "id": "AP9Ouy_b_hUW",
        "colab_type": "code",
        "colab": {}
      },
      "source": [
        "test['label'] = test_pred\n",
        "submission = test[['id','label']]"
      ],
      "execution_count": 0,
      "outputs": []
    },
    {
      "cell_type": "code",
      "metadata": {
        "id": "ce8GDZnD_sj4",
        "colab_type": "code",
        "colab": {
          "base_uri": "https://localhost:8080/",
          "height": 202
        },
        "outputId": "96d7ef93-9721-442f-9cc4-aae7a97f1a0b"
      },
      "source": [
        "submission.head()"
      ],
      "execution_count": 130,
      "outputs": [
        {
          "output_type": "execute_result",
          "data": {
            "text/html": [
              "<div>\n",
              "<style scoped>\n",
              "    .dataframe tbody tr th:only-of-type {\n",
              "        vertical-align: middle;\n",
              "    }\n",
              "\n",
              "    .dataframe tbody tr th {\n",
              "        vertical-align: top;\n",
              "    }\n",
              "\n",
              "    .dataframe thead th {\n",
              "        text-align: right;\n",
              "    }\n",
              "</style>\n",
              "<table border=\"1\" class=\"dataframe\">\n",
              "  <thead>\n",
              "    <tr style=\"text-align: right;\">\n",
              "      <th></th>\n",
              "      <th>id</th>\n",
              "      <th>label</th>\n",
              "    </tr>\n",
              "  </thead>\n",
              "  <tbody>\n",
              "    <tr>\n",
              "      <th>0</th>\n",
              "      <td>31963</td>\n",
              "      <td>0</td>\n",
              "    </tr>\n",
              "    <tr>\n",
              "      <th>1</th>\n",
              "      <td>31964</td>\n",
              "      <td>1</td>\n",
              "    </tr>\n",
              "    <tr>\n",
              "      <th>2</th>\n",
              "      <td>31965</td>\n",
              "      <td>0</td>\n",
              "    </tr>\n",
              "    <tr>\n",
              "      <th>3</th>\n",
              "      <td>31966</td>\n",
              "      <td>0</td>\n",
              "    </tr>\n",
              "    <tr>\n",
              "      <th>4</th>\n",
              "      <td>31967</td>\n",
              "      <td>0</td>\n",
              "    </tr>\n",
              "  </tbody>\n",
              "</table>\n",
              "</div>"
            ],
            "text/plain": [
              "      id  label\n",
              "0  31963      0\n",
              "1  31964      1\n",
              "2  31965      0\n",
              "3  31966      0\n",
              "4  31967      0"
            ]
          },
          "metadata": {
            "tags": []
          },
          "execution_count": 130
        }
      ]
    },
    {
      "cell_type": "code",
      "metadata": {
        "id": "1ZCeGIuoNjrc",
        "colab_type": "code",
        "colab": {
          "base_uri": "https://localhost:8080/",
          "height": 34
        },
        "outputId": "410de9e0-5ebc-4df8-d73c-419fafc0ea12"
      },
      "source": [
        "import os\n",
        "os.getcwd()"
      ],
      "execution_count": 131,
      "outputs": [
        {
          "output_type": "execute_result",
          "data": {
            "text/plain": [
              "'/content'"
            ]
          },
          "metadata": {
            "tags": []
          },
          "execution_count": 131
        }
      ]
    },
    {
      "cell_type": "code",
      "metadata": {
        "id": "XzFbEj3WAtaQ",
        "colab_type": "code",
        "colab": {}
      },
      "source": [
        "submission.to_csv('submission2.csv', index=False)"
      ],
      "execution_count": 0,
      "outputs": []
    },
    {
      "cell_type": "code",
      "metadata": {
        "id": "P1y3mAitNowj",
        "colab_type": "code",
        "colab": {}
      },
      "source": [
        ""
      ],
      "execution_count": 0,
      "outputs": []
    }
  ]
}